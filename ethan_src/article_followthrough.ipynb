{
 "cells": [
  {
   "cell_type": "code",
   "execution_count": 1,
   "id": "a767a39d",
   "metadata": {},
   "outputs": [
    {
     "name": "stderr",
     "output_type": "stream",
     "text": [
      "/Users/ethanedwards/GitRepos/MLX-LoRA-and-RLHF/.venv/lib/python3.12/site-packages/tqdm/auto.py:21: TqdmWarning: IProgress not found. Please update jupyter and ipywidgets. See https://ipywidgets.readthedocs.io/en/stable/user_install.html\n",
      "  from .autonotebook import tqdm as notebook_tqdm\n"
     ]
    }
   ],
   "source": [
    "from datasets import load_dataset\n",
    "from torch.utils.data import Dataset\n",
    "import torch\n",
    "\n",
    "class TLDRDataset(Dataset):\n",
    "    def __init__(self, train_path, tokenizer, split, max_length=550):\n",
    "        dataset = load_dataset(train_path, split=split)\n",
    "        self.examples = [sample[\"prompt\"] + sample[\"label\"] for sample in dataset]\n",
    "        self.examples = self.examples[:2000] if \"valid\" in split else self.examples\n",
    "        self.tokenizer = tokenizer\n",
    "        self.max_length = max_length\n",
    "\n",
    "    def __len__(self):\n",
    "        return len(self.examples)\n",
    "\n",
    "    def __getitem__(self, idx):\n",
    "        enc = self.tokenizer(\n",
    "            self.examples[idx], truncation=True, max_length=self.max_length, padding=\"max_length\"\n",
    "        )\n",
    "        return {\n",
    "            \"input_ids\": torch.tensor(enc[\"input_ids\"]),\n",
    "            \"attention_mask\": torch.tensor(enc[\"attention_mask\"]),\n",
    "            \"labels\": torch.tensor(enc[\"input_ids\"]),  # teacher forcing\n",
    "        }"
   ]
  }
 ],
 "metadata": {
  "kernelspec": {
   "display_name": "mlx-lora-and-rlhf",
   "language": "python",
   "name": "python3"
  },
  "language_info": {
   "codemirror_mode": {
    "name": "ipython",
    "version": 3
   },
   "file_extension": ".py",
   "mimetype": "text/x-python",
   "name": "python",
   "nbconvert_exporter": "python",
   "pygments_lexer": "ipython3",
   "version": "3.12.11"
  }
 },
 "nbformat": 4,
 "nbformat_minor": 5
}
